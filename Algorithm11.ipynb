{
 "cells": [
  {
   "cell_type": "code",
   "execution_count": 1,
   "id": "c707dfcf-c539-4cdf-bf17-faf6e6019726",
   "metadata": {},
   "outputs": [
    {
     "name": "stdout",
     "output_type": "stream",
     "text": [
      "Hello\n"
     ]
    }
   ],
   "source": [
    "print(\"Hello\")\n"
   ]
  },
  {
   "cell_type": "code",
   "execution_count": 3,
   "id": "ef754029-a4e2-4781-80fe-30a61a027338",
   "metadata": {},
   "outputs": [],
   "source": [
    "myList = []\n",
    "for i in range(20):\n",
    "    myList.append(i*5)"
   ]
  },
  {
   "cell_type": "code",
   "execution_count": 4,
   "id": "555a51fe-0df3-4518-8d70-67b52ee7ef2b",
   "metadata": {},
   "outputs": [
    {
     "data": {
      "text/plain": [
       "[0, 5, 10, 15, 20, 25, 30, 35, 40, 45, 50, 55, 60, 65, 70, 75, 80, 85, 90, 95]"
      ]
     },
     "execution_count": 4,
     "metadata": {},
     "output_type": "execute_result"
    }
   ],
   "source": [
    "myList"
   ]
  },
  {
   "cell_type": "code",
   "execution_count": 5,
   "id": "c2633db0-46e8-4b95-8bdf-8d82ab853f34",
   "metadata": {},
   "outputs": [],
   "source": [
    "def dividers(n):\n",
    "    div = 1\n",
    "    for i in range(1,int(n/2)+1):\n",
    "        if n%i==0:\n",
    "            div = i\n",
    "            print(i)\n",
    "    return div "
   ]
  },
  {
   "cell_type": "code",
   "execution_count": 6,
   "id": "6f9fac24-4f21-4652-919d-971f20f68eb2",
   "metadata": {},
   "outputs": [
    {
     "name": "stdout",
     "output_type": "stream",
     "text": [
      "1\n",
      "2\n",
      "3\n",
      "4\n",
      "6\n"
     ]
    },
    {
     "data": {
      "text/plain": [
       "6"
      ]
     },
     "execution_count": 6,
     "metadata": {},
     "output_type": "execute_result"
    }
   ],
   "source": [
    "dividers(12)"
   ]
  },
  {
   "cell_type": "code",
   "execution_count": 9,
   "id": "caf71dcc-f73c-48c6-8fb3-a0fb99073cee",
   "metadata": {},
   "outputs": [],
   "source": [
    "AdaLovelace = {'name':'Ada', 'surname':'Lovelace', 'year of birth':'1815', 'location':'London', 'profession':'mathematician'}"
   ]
  },
  {
   "cell_type": "code",
   "execution_count": 10,
   "id": "6b0ef451-4105-4d94-b715-66e1cac3ace3",
   "metadata": {},
   "outputs": [
    {
     "name": "stdout",
     "output_type": "stream",
     "text": [
      "{'name': 'Ada', 'surname': 'Lovelace', 'year of birth': '1815', 'location': 'London', 'profession': 'mathematician'}\n"
     ]
    }
   ],
   "source": [
    "print(AdaLovelace)"
   ]
  },
  {
   "cell_type": "code",
   "execution_count": 11,
   "id": "b15b52d0-2377-48b2-9055-272ffb8bdc1d",
   "metadata": {},
   "outputs": [],
   "source": [
    "def inDictionary(d,k):\n",
    "    for t in d.keys():\n",
    "        if k == t:\n",
    "            return True\n",
    "        return False"
   ]
  },
  {
   "cell_type": "code",
   "execution_count": 12,
   "id": "addbebdd-7f58-4ef6-a9ca-e990a8962950",
   "metadata": {},
   "outputs": [
    {
     "data": {
      "text/plain": [
       "True"
      ]
     },
     "execution_count": 12,
     "metadata": {},
     "output_type": "execute_result"
    }
   ],
   "source": [
    "inDictionary(AdaLovelace, 'name')"
   ]
  },
  {
   "cell_type": "code",
   "execution_count": 18,
   "id": "4087550f-7b57-4a04-a065-74458cff1d77",
   "metadata": {},
   "outputs": [],
   "source": [
    "def swapDictionary(d):\n",
    "    newDict = {}\n",
    "    for k in d.keys():\n",
    "        newDict[d[k]]=k\n",
    "        return newDict"
   ]
  },
  {
   "cell_type": "code",
   "execution_count": 14,
   "id": "2ade752c-6ae0-47e1-b8a6-c0f72c134a43",
   "metadata": {},
   "outputs": [
    {
     "data": {
      "text/plain": [
       "{'Ada': 'name'}"
      ]
     },
     "execution_count": 14,
     "metadata": {},
     "output_type": "execute_result"
    }
   ],
   "source": [
    "swapDictionary(AdaLovelace)"
   ]
  },
  {
   "cell_type": "code",
   "execution_count": 19,
   "id": "3e7e633e-4424-4ffb-a15c-68667ea64d2a",
   "metadata": {},
   "outputs": [
    {
     "data": {
      "text/plain": [
       "{1: 'a', 2: 'd', 3: 'c'}"
      ]
     },
     "execution_count": 19,
     "metadata": {},
     "output_type": "execute_result"
    }
   ],
   "source": [
    "dict1 = {'a':1, 'b':2, 'c':3, 'd':2}\n",
    "def swapDictionary(d):\n",
    "    newDict = {}\n",
    "    for k in d.keys():\n",
    "        if inDictionary(newDict,d[k]):\n",
    "            cv = newDict[d[k]]\n",
    "            nv = [cv, k]\n",
    "            newDict[d[k]]=nv\n",
    "        else:\n",
    "            newDict[d[k]]=k\n",
    "    return newDict\n",
    "swapDictionary(dict1)"
   ]
  },
  {
   "cell_type": "code",
   "execution_count": 21,
   "id": "6091b4a5-e4c7-4146-8f2a-0458e6872540",
   "metadata": {},
   "outputs": [],
   "source": [
    "def fibonacciDict(n):\n",
    "    fibonacci = {}\n",
    "    v1 = 0\n",
    "    v2 = 1\n",
    "    for i in range(n):\n",
    "        fibonacci[i]=v1\n",
    "        t = v1 + v2\n",
    "        v1 = v2\n",
    "        v2 = t\n",
    "    return fibonacci"
   ]
  },
  {
   "cell_type": "code",
   "execution_count": 22,
   "id": "6645e003-134e-40d8-ada1-d1c635b756eb",
   "metadata": {},
   "outputs": [
    {
     "data": {
      "text/plain": [
       "{0: 0, 1: 1, 2: 1, 3: 2, 4: 3, 5: 5, 6: 8, 7: 13, 8: 21, 9: 34}"
      ]
     },
     "execution_count": 22,
     "metadata": {},
     "output_type": "execute_result"
    }
   ],
   "source": [
    "fibonacciDict(10)"
   ]
  },
  {
   "cell_type": "code",
   "execution_count": null,
   "id": "24d4cf21-c01d-470e-9d86-fb6c40cedcf3",
   "metadata": {},
   "outputs": [],
   "source": []
  }
 ],
 "metadata": {
  "kernelspec": {
   "display_name": "Python 3 (ipykernel)",
   "language": "python",
   "name": "python3"
  },
  "language_info": {
   "codemirror_mode": {
    "name": "ipython",
    "version": 3
   },
   "file_extension": ".py",
   "mimetype": "text/x-python",
   "name": "python",
   "nbconvert_exporter": "python",
   "pygments_lexer": "ipython3",
   "version": "3.11.10"
  }
 },
 "nbformat": 4,
 "nbformat_minor": 5
}
