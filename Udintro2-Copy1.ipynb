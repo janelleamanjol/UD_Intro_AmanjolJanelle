{
 "cells": [
  {
   "cell_type": "code",
   "execution_count": 1,
   "id": "85c580a3-bc27-4e79-84f5-a1eed00ae5c3",
   "metadata": {
    "scrolled": true
   },
   "outputs": [
    {
     "name": "stdout",
     "output_type": "stream",
     "text": [
      "Introduction to Programming\n"
     ]
    }
   ],
   "source": [
    "print('Introduction t)"
   ]
  },
  {
   "cell_type": "code",
   "execution_count": 15,
   "id": "13cc7100-9cd2-4a42-867c-7136bb8aaff1",
   "metadata": {},
   "outputs": [],
   "source": [
    "# %load HelloWorld.py\n",
    "Hello World"
   ]
  },
  {
   "cell_type": "code",
   "execution_count": 20,
   "id": "c3c281a6-37a0-4d06-8931-a01a6ea9b538",
   "metadata": {},
   "outputs": [
    {
     "name": "stdout",
     "output_type": "stream",
     "text": [
      "Hello World!\n"
     ]
    }
   ],
   "source": [
    "print (\"Hello World!\")"
   ]
  },
  {
   "cell_type": "code",
   "execution_count": 21,
   "id": "0e6605d1-4824-4c8b-a639-cbfc75aa786d",
   "metadata": {},
   "outputs": [
    {
     "name": "stdout",
     "output_type": "stream",
     "text": [
      "Overwriting HelloWorld0.py\n"
     ]
    }
   ],
   "source": [
    "%%writefile HelloWorld0.py\n",
    "print (\"Hello World!\")"
   ]
  },
  {
   "cell_type": "code",
   "execution_count": 22,
   "id": "e1035c4f-60c5-43f2-8be0-8942c7c74fc4",
   "metadata": {},
   "outputs": [],
   "source": [
    "# %load HelloWorld0.py\n",
    "print (\"Hello World!\")\n"
   ]
  },
  {
   "cell_type": "code",
   "execution_count": 24,
   "id": "9059e872-6118-4973-a676-b7669eef4097",
   "metadata": {},
   "outputs": [],
   "source": [
    "MyName = \"Janelle\""
   ]
  },
  {
   "cell_type": "code",
   "execution_count": 25,
   "id": "94b26203-d3c8-4b23-a35b-fb5bd384af5e",
   "metadata": {},
   "outputs": [],
   "source": [
    "MyEmail = \"janelleamanjol@gmail.com\""
   ]
  },
  {
   "cell_type": "code",
   "execution_count": 26,
   "id": "ae59510a-a913-4f33-b7c3-cf92edcdec6d",
   "metadata": {},
   "outputs": [],
   "source": [
    "MyAge = 26"
   ]
  },
  {
   "cell_type": "code",
   "execution_count": 28,
   "id": "22edfc30-9670-471e-8363-d32198d58b39",
   "metadata": {},
   "outputs": [
    {
     "name": "stdout",
     "output_type": "stream",
     "text": [
      "Janelle\n"
     ]
    }
   ],
   "source": [
    "print(MyName)"
   ]
  },
  {
   "cell_type": "code",
   "execution_count": 29,
   "id": "580a69fd-7573-4e00-955a-a9d974158367",
   "metadata": {},
   "outputs": [
    {
     "name": "stdout",
     "output_type": "stream",
     "text": [
      "janelleamanjol@gmail.com\n"
     ]
    }
   ],
   "source": [
    "print(MyEmail)"
   ]
  },
  {
   "cell_type": "code",
   "execution_count": 30,
   "id": "b58cf3bb-a3a0-4873-935b-231b182652b3",
   "metadata": {},
   "outputs": [
    {
     "name": "stdout",
     "output_type": "stream",
     "text": [
      "26\n"
     ]
    }
   ],
   "source": [
    "print(MyAge)"
   ]
  },
  {
   "cell_type": "code",
   "execution_count": 34,
   "id": "388a0c64-9967-48f2-8ac9-efafb1009c4d",
   "metadata": {},
   "outputs": [
    {
     "name": "stdout",
     "output_type": "stream",
     "text": [
      "Janelle janelleamanjol@gmail.com 26\n"
     ]
    }
   ],
   "source": [
    "print(MyName, MyEmail, MyAge)"
   ]
  },
  {
   "cell_type": "code",
   "execution_count": 36,
   "id": "c3f2104c-c155-4481-9f79-467f8559ae89",
   "metadata": {},
   "outputs": [
    {
     "name": "stdout",
     "output_type": "stream",
     "text": [
      "0\n",
      "178\n",
      "-21\n",
      "59\n",
      "4337328\n",
      "3833759992447475122176\n"
     ]
    }
   ],
   "source": [
    "print(0)\n",
    "print(178)\n",
    "print(-21)\n",
    "print(2938//49)\n",
    "print(436*9948)\n",
    "print(12**20)"
   ]
  },
  {
   "cell_type": "code",
   "execution_count": 51,
   "id": "c9662105-3e3d-4f19-b372-9419673169c9",
   "metadata": {},
   "outputs": [
    {
     "name": "stdout",
     "output_type": "stream",
     "text": [
      "-0.34202014332566866\n",
      "-0.1736481776669303\n",
      "0.9999999999999999\n"
     ]
    }
   ],
   "source": [
    "from math import *\n",
    "print(sin(radians(200)))\n",
    "print(cos(radians(100)))\n",
    "print(tan((pi/4)))"
   ]
  },
  {
   "cell_type": "code",
   "execution_count": 53,
   "id": "29e34965-4600-4221-a433-ea8d9d7ce61f",
   "metadata": {},
   "outputs": [
    {
     "name": "stdout",
     "output_type": "stream",
     "text": [
      "Janelle Amanjol\n"
     ]
    }
   ],
   "source": [
    "firstname = \"Janelle\"\n",
    "lastname = \"Amanjol\"\n",
    "print(firstname + ' ' + lastname)"
   ]
  },
  {
   "cell_type": "code",
   "execution_count": 3,
   "id": "d1598d22-5ee8-43b3-a824-855972e52680",
   "metadata": {},
   "outputs": [
    {
     "name": "stdin",
     "output_type": "stream",
     "text": [
      "Input a number:  6\n"
     ]
    },
    {
     "name": "stdout",
     "output_type": "stream",
     "text": [
      "It is a positive number\n"
     ]
    }
   ],
   "source": [
    "num = float(input(\"Input a number: \"))\n",
    "if num > 0:\n",
    "    print(\"It is a positive number\")\n",
    "elif num == 0:\n",
    "    print(\"It is zero\")\n",
    "else:\n",
    "    print(\"It is a negative number\")"
   ]
  },
  {
   "cell_type": "code",
   "execution_count": null,
   "id": "2c57490a-5860-42b1-9ea9-bdcafc18b491",
   "metadata": {},
   "outputs": [],
   "source": [
    "import random\n",
    "n = random.randrange(1,20)\n",
    "guess = int(input(\"Enter any number: \"))\n",
    "while 11!= guess:\n",
    "    if guess < 11:\n",
    "        print(\"Too low\")\n",
    "        guess = int(input(\"Enter number again: \"))\n",
    "    elif guess > 11:\n",
    "        print(\"Too high\")\n",
    "        guess = int(input(\"Enter number again: \"))\n",
    "    else:\n",
    "        break\n",
    "print(\"Congratulations! You guessed it!\")\n",
    "    "
   ]
  },
  {
   "cell_type": "code",
   "execution_count": 2,
   "id": "b62954b9-5b3f-4ba9-a6e7-1a12c0dbc823",
   "metadata": {},
   "outputs": [
    {
     "name": "stdin",
     "output_type": "stream",
     "text": [
      "Enter a string:  Holidays are coming!\n"
     ]
    },
    {
     "name": "stdout",
     "output_type": "stream",
     "text": [
      "The sorted words are: \n",
      "are\n",
      "coming!\n",
      "holidays\n"
     ]
    }
   ],
   "source": [
    "my_str = input(\"Enter a string: \")\n",
    "words = [word.lower() for word in my_str.split()]\n",
    "words.sort()\n",
    "print(\"The sorted words are: \")\n",
    "for word in words:\n",
    "    print(word)"
   ]
  },
  {
   "cell_type": "code",
   "execution_count": 5,
   "id": "655acee1-f7a9-4dd0-81db-32646d757507",
   "metadata": {},
   "outputs": [
    {
     "name": "stdin",
     "output_type": "stream",
     "text": [
      " 6\n"
     ]
    },
    {
     "name": "stdout",
     "output_type": "stream",
     "text": [
      "     *\n",
      "    ***\n",
      "   *****\n",
      "  *******\n",
      " *********\n",
      "***********\n",
      "     |\n"
     ]
    }
   ],
   "source": [
    "height = int(input())\n",
    "\n",
    "for i in range(1,height+1):\n",
    "    spaces = ' '*(height-i)\n",
    "    stars = '*'*(i+i-1)\n",
    "    layer = spaces + stars\n",
    "    print(layer)\n",
    "print(' '*(height-1) + '|')"
   ]
  },
  {
   "cell_type": "code",
   "execution_count": 6,
   "id": "959a1b8e-5f5a-4790-a663-6777ac26cc07",
   "metadata": {},
   "outputs": [
    {
     "name": "stdin",
     "output_type": "stream",
     "text": [
      " 60\n"
     ]
    },
    {
     "name": "stdout",
     "output_type": "stream",
     "text": [
      "1\n",
      "1\n",
      "1\n",
      "2\n",
      "2\n",
      "3\n",
      "4\n",
      "5\n",
      "7\n",
      "9\n",
      "12\n",
      "16\n",
      "21\n",
      "28\n",
      "37\n",
      "49\n",
      "65\n",
      "86\n",
      "114\n",
      "151\n",
      "200\n",
      "265\n",
      "351\n",
      "465\n",
      "616\n",
      "816\n",
      "1081\n",
      "1432\n",
      "1897\n",
      "2513\n",
      "3329\n",
      "4410\n",
      "5842\n",
      "7739\n",
      "10252\n",
      "13581\n",
      "17991\n",
      "23833\n",
      "31572\n",
      "41824\n",
      "55405\n",
      "73396\n",
      "97229\n",
      "128801\n",
      "170625\n",
      "226030\n",
      "299426\n",
      "396655\n",
      "525456\n",
      "696081\n",
      "922111\n",
      "1221537\n",
      "1618192\n",
      "2143648\n",
      "2839729\n",
      "3761840\n",
      "4983377\n",
      "6601569\n",
      "8745217\n",
      "11584946\n"
     ]
    }
   ],
   "source": [
    "p0 = 1\n",
    "p1 = 1\n",
    "p2 = 1\n",
    "n = int(input())\n",
    "for i in range(n):\n",
    "    print(p0)\n",
    "    m = p0 + p1\n",
    "    p0 = p1\n",
    "    p1 = p2\n",
    "    p2 = m"
   ]
  },
  {
   "cell_type": "code",
   "execution_count": null,
   "id": "cfd6721e-f80c-4161-bf82-f27791e9ffaf",
   "metadata": {},
   "outputs": [],
   "source": []
  }
 ],
 "metadata": {
  "kernelspec": {
   "display_name": "Python 3 (ipykernel)",
   "language": "python",
   "name": "python3"
  },
  "language_info": {
   "codemirror_mode": {
    "name": "ipython",
    "version": 3
   },
   "file_extension": ".py",
   "mimetype": "text/x-python",
   "name": "python",
   "nbconvert_exporter": "python",
   "pygments_lexer": "ipython3",
   "version": "3.11.10"
  }
 },
 "nbformat": 4,
 "nbformat_minor": 5
}
